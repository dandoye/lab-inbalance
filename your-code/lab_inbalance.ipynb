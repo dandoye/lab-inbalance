{
 "cells": [
  {
   "cell_type": "markdown",
   "metadata": {},
   "source": [
    "# Inbalanced Classes\n",
    "## In this lab, we are going to explore a case of imbalanced classes. \n",
    "\n",
    "\n",
    "Like we disussed in class, when we have noisy data, if we are not careful, we can end up fitting our model to the noise in the data and not the 'signal'-- the factors that actually determine the outcome. This is called overfitting, and results in good results in training, and in bad results when the model is applied to real data. Similarly, we could have a model that is too simplistic to accurately model the signal. This produces a model that doesnt work well (ever). \n"
   ]
  },
  {
   "cell_type": "markdown",
   "metadata": {},
   "source": [
    "### First, download the data from: https://www.kaggle.com/ntnu-testimon/paysim1. Import the dataset and provide some discriptive statistics and plots. What do you think will be the important features in determining the outcome?"
   ]
  },
  {
   "cell_type": "code",
   "execution_count": 1,
   "metadata": {},
   "outputs": [
    {
     "data": {
      "text/plain": [
       "(143, 11)"
      ]
     },
     "execution_count": 1,
     "metadata": {},
     "output_type": "execute_result"
    }
   ],
   "source": [
    "# Your code here\n",
    "import pandas as pd\n",
    "import numpy as np\n",
    "\n",
    "paysim = pd.read_csv('../paysim.csv')\n",
    "paysim = paysim.sample(n = 100000)\n",
    "#paysim.head()\n",
    "paysim[paysim['isFraud'] == 1].shape"
   ]
  },
  {
   "cell_type": "code",
   "execution_count": 2,
   "metadata": {},
   "outputs": [
    {
     "data": {
      "text/plain": [
       "(100000, 11)"
      ]
     },
     "execution_count": 2,
     "metadata": {},
     "output_type": "execute_result"
    }
   ],
   "source": [
    "paysim.shape"
   ]
  },
  {
   "cell_type": "code",
   "execution_count": 3,
   "metadata": {},
   "outputs": [
    {
     "data": {
      "text/html": [
       "<div>\n",
       "<style scoped>\n",
       "    .dataframe tbody tr th:only-of-type {\n",
       "        vertical-align: middle;\n",
       "    }\n",
       "\n",
       "    .dataframe tbody tr th {\n",
       "        vertical-align: top;\n",
       "    }\n",
       "\n",
       "    .dataframe thead th {\n",
       "        text-align: right;\n",
       "    }\n",
       "</style>\n",
       "<table border=\"1\" class=\"dataframe\">\n",
       "  <thead>\n",
       "    <tr style=\"text-align: right;\">\n",
       "      <th></th>\n",
       "      <th>step</th>\n",
       "      <th>amount</th>\n",
       "      <th>oldbalanceOrg</th>\n",
       "      <th>newbalanceOrig</th>\n",
       "      <th>oldbalanceDest</th>\n",
       "      <th>newbalanceDest</th>\n",
       "      <th>isFraud</th>\n",
       "      <th>isFlaggedFraud</th>\n",
       "    </tr>\n",
       "  </thead>\n",
       "  <tbody>\n",
       "    <tr>\n",
       "      <th>count</th>\n",
       "      <td>100000.000000</td>\n",
       "      <td>1.000000e+05</td>\n",
       "      <td>1.000000e+05</td>\n",
       "      <td>1.000000e+05</td>\n",
       "      <td>1.000000e+05</td>\n",
       "      <td>1.000000e+05</td>\n",
       "      <td>100000.000000</td>\n",
       "      <td>100000.000000</td>\n",
       "    </tr>\n",
       "    <tr>\n",
       "      <th>mean</th>\n",
       "      <td>243.437640</td>\n",
       "      <td>1.765842e+05</td>\n",
       "      <td>8.287685e+05</td>\n",
       "      <td>8.496867e+05</td>\n",
       "      <td>1.091891e+06</td>\n",
       "      <td>1.212894e+06</td>\n",
       "      <td>0.001430</td>\n",
       "      <td>0.000010</td>\n",
       "    </tr>\n",
       "    <tr>\n",
       "      <th>std</th>\n",
       "      <td>141.907062</td>\n",
       "      <td>5.705220e+05</td>\n",
       "      <td>2.868099e+06</td>\n",
       "      <td>2.900593e+06</td>\n",
       "      <td>3.324259e+06</td>\n",
       "      <td>3.615968e+06</td>\n",
       "      <td>0.037788</td>\n",
       "      <td>0.003162</td>\n",
       "    </tr>\n",
       "    <tr>\n",
       "      <th>min</th>\n",
       "      <td>1.000000</td>\n",
       "      <td>1.880000e+00</td>\n",
       "      <td>0.000000e+00</td>\n",
       "      <td>0.000000e+00</td>\n",
       "      <td>0.000000e+00</td>\n",
       "      <td>0.000000e+00</td>\n",
       "      <td>0.000000</td>\n",
       "      <td>0.000000</td>\n",
       "    </tr>\n",
       "    <tr>\n",
       "      <th>25%</th>\n",
       "      <td>156.000000</td>\n",
       "      <td>1.341808e+04</td>\n",
       "      <td>0.000000e+00</td>\n",
       "      <td>0.000000e+00</td>\n",
       "      <td>0.000000e+00</td>\n",
       "      <td>0.000000e+00</td>\n",
       "      <td>0.000000</td>\n",
       "      <td>0.000000</td>\n",
       "    </tr>\n",
       "    <tr>\n",
       "      <th>50%</th>\n",
       "      <td>239.000000</td>\n",
       "      <td>7.429371e+04</td>\n",
       "      <td>1.404792e+04</td>\n",
       "      <td>0.000000e+00</td>\n",
       "      <td>1.348900e+05</td>\n",
       "      <td>2.137431e+05</td>\n",
       "      <td>0.000000</td>\n",
       "      <td>0.000000</td>\n",
       "    </tr>\n",
       "    <tr>\n",
       "      <th>75%</th>\n",
       "      <td>334.000000</td>\n",
       "      <td>2.085098e+05</td>\n",
       "      <td>1.065495e+05</td>\n",
       "      <td>1.410326e+05</td>\n",
       "      <td>9.379300e+05</td>\n",
       "      <td>1.107317e+06</td>\n",
       "      <td>0.000000</td>\n",
       "      <td>0.000000</td>\n",
       "    </tr>\n",
       "    <tr>\n",
       "      <th>max</th>\n",
       "      <td>741.000000</td>\n",
       "      <td>5.132412e+07</td>\n",
       "      <td>4.489219e+07</td>\n",
       "      <td>3.489219e+07</td>\n",
       "      <td>2.495665e+08</td>\n",
       "      <td>2.496098e+08</td>\n",
       "      <td>1.000000</td>\n",
       "      <td>1.000000</td>\n",
       "    </tr>\n",
       "  </tbody>\n",
       "</table>\n",
       "</div>"
      ],
      "text/plain": [
       "                step        amount  oldbalanceOrg  newbalanceOrig  \\\n",
       "count  100000.000000  1.000000e+05   1.000000e+05    1.000000e+05   \n",
       "mean      243.437640  1.765842e+05   8.287685e+05    8.496867e+05   \n",
       "std       141.907062  5.705220e+05   2.868099e+06    2.900593e+06   \n",
       "min         1.000000  1.880000e+00   0.000000e+00    0.000000e+00   \n",
       "25%       156.000000  1.341808e+04   0.000000e+00    0.000000e+00   \n",
       "50%       239.000000  7.429371e+04   1.404792e+04    0.000000e+00   \n",
       "75%       334.000000  2.085098e+05   1.065495e+05    1.410326e+05   \n",
       "max       741.000000  5.132412e+07   4.489219e+07    3.489219e+07   \n",
       "\n",
       "       oldbalanceDest  newbalanceDest        isFraud  isFlaggedFraud  \n",
       "count    1.000000e+05    1.000000e+05  100000.000000   100000.000000  \n",
       "mean     1.091891e+06    1.212894e+06       0.001430        0.000010  \n",
       "std      3.324259e+06    3.615968e+06       0.037788        0.003162  \n",
       "min      0.000000e+00    0.000000e+00       0.000000        0.000000  \n",
       "25%      0.000000e+00    0.000000e+00       0.000000        0.000000  \n",
       "50%      1.348900e+05    2.137431e+05       0.000000        0.000000  \n",
       "75%      9.379300e+05    1.107317e+06       0.000000        0.000000  \n",
       "max      2.495665e+08    2.496098e+08       1.000000        1.000000  "
      ]
     },
     "execution_count": 3,
     "metadata": {},
     "output_type": "execute_result"
    }
   ],
   "source": [
    "paysim.describe()"
   ]
  },
  {
   "cell_type": "code",
   "execution_count": 4,
   "metadata": {},
   "outputs": [
    {
     "data": {
      "text/plain": [
       "step                int64\n",
       "type               object\n",
       "amount            float64\n",
       "nameOrig           object\n",
       "oldbalanceOrg     float64\n",
       "newbalanceOrig    float64\n",
       "nameDest           object\n",
       "oldbalanceDest    float64\n",
       "newbalanceDest    float64\n",
       "isFraud             int64\n",
       "isFlaggedFraud      int64\n",
       "dtype: object"
      ]
     },
     "execution_count": 4,
     "metadata": {},
     "output_type": "execute_result"
    }
   ],
   "source": [
    "paysim.dtypes"
   ]
  },
  {
   "cell_type": "code",
   "execution_count": 6,
   "metadata": {},
   "outputs": [
    {
     "data": {
      "text/plain": [
       "<matplotlib.axes._subplots.AxesSubplot at 0x1ef56adae48>"
      ]
     },
     "execution_count": 6,
     "metadata": {},
     "output_type": "execute_result"
    }
   ],
   "source": [
    "import seaborn as sns\n",
    "import matplotlib.pyplot as plt\n",
    "plt.style.use('ggplot')\n",
    "fig = plt.subplots(figsize = (10,10))\n",
    "sns.heatmap(paysim.corr(), annot = True)"
   ]
  },
  {
   "cell_type": "markdown",
   "metadata": {},
   "source": [
    "### What is the distribution of the outcome? "
   ]
  },
  {
   "cell_type": "code",
   "execution_count": 20,
   "metadata": {},
   "outputs": [
    {
     "name": "stdout",
     "output_type": "stream",
     "text": [
      "0    99857\n",
      "1      143\n",
      "Name: isFraud, dtype: int64\n"
     ]
    },
    {
     "data": {
      "text/plain": [
       "0.00143"
      ]
     },
     "execution_count": 20,
     "metadata": {},
     "output_type": "execute_result"
    }
   ],
   "source": [
    "print(paysim['isFraud'].value_counts())\n",
    "143/100000\n"
   ]
  },
  {
   "cell_type": "markdown",
   "metadata": {},
   "source": [
    "### Your response here\n",
    "- A very small portion, only 0.1% are fraud"
   ]
  },
  {
   "cell_type": "markdown",
   "metadata": {},
   "source": [
    "### Clean the dataset. How are you going to integrate the time variable? Do you think the step (integer) coding in which it is given is appropriate?"
   ]
  },
  {
   "cell_type": "code",
   "execution_count": 9,
   "metadata": {},
   "outputs": [
    {
     "data": {
      "text/plain": [
       "step              0\n",
       "type              0\n",
       "amount            0\n",
       "nameOrig          0\n",
       "oldbalanceOrg     0\n",
       "newbalanceOrig    0\n",
       "nameDest          0\n",
       "oldbalanceDest    0\n",
       "newbalanceDest    0\n",
       "isFraud           0\n",
       "isFlaggedFraud    0\n",
       "dtype: int64"
      ]
     },
     "execution_count": 9,
     "metadata": {},
     "output_type": "execute_result"
    }
   ],
   "source": [
    "# Your code here\n",
    "paysim.isna().sum()"
   ]
  },
  {
   "cell_type": "code",
   "execution_count": 10,
   "metadata": {},
   "outputs": [
    {
     "data": {
      "text/plain": [
       "array(['CASH_OUT', 'PAYMENT', 'TRANSFER', 'CASH_IN', 'DEBIT'],\n",
       "      dtype=object)"
      ]
     },
     "execution_count": 10,
     "metadata": {},
     "output_type": "execute_result"
    }
   ],
   "source": [
    "paysim['type'].unique()"
   ]
  },
  {
   "cell_type": "code",
   "execution_count": 11,
   "metadata": {},
   "outputs": [
    {
     "data": {
      "text/html": [
       "<div>\n",
       "<style scoped>\n",
       "    .dataframe tbody tr th:only-of-type {\n",
       "        vertical-align: middle;\n",
       "    }\n",
       "\n",
       "    .dataframe tbody tr th {\n",
       "        vertical-align: top;\n",
       "    }\n",
       "\n",
       "    .dataframe thead th {\n",
       "        text-align: right;\n",
       "    }\n",
       "</style>\n",
       "<table border=\"1\" class=\"dataframe\">\n",
       "  <thead>\n",
       "    <tr style=\"text-align: right;\">\n",
       "      <th></th>\n",
       "      <th>step</th>\n",
       "      <th>type</th>\n",
       "      <th>amount</th>\n",
       "      <th>nameOrig</th>\n",
       "      <th>oldbalanceOrg</th>\n",
       "      <th>newbalanceOrig</th>\n",
       "      <th>nameDest</th>\n",
       "      <th>oldbalanceDest</th>\n",
       "      <th>newbalanceDest</th>\n",
       "      <th>isFraud</th>\n",
       "      <th>isFlaggedFraud</th>\n",
       "      <th>type_int</th>\n",
       "      <th>balanceOrig_diff</th>\n",
       "      <th>balanceDest_diff</th>\n",
       "    </tr>\n",
       "  </thead>\n",
       "  <tbody>\n",
       "    <tr>\n",
       "      <th>3377225</th>\n",
       "      <td>254</td>\n",
       "      <td>CASH_OUT</td>\n",
       "      <td>13165.31</td>\n",
       "      <td>C201466268</td>\n",
       "      <td>0.00</td>\n",
       "      <td>0.00</td>\n",
       "      <td>C632611315</td>\n",
       "      <td>492122.40</td>\n",
       "      <td>505287.71</td>\n",
       "      <td>0</td>\n",
       "      <td>0</td>\n",
       "      <td>2</td>\n",
       "      <td>0.00</td>\n",
       "      <td>13165.31</td>\n",
       "    </tr>\n",
       "    <tr>\n",
       "      <th>4147139</th>\n",
       "      <td>303</td>\n",
       "      <td>CASH_OUT</td>\n",
       "      <td>55343.20</td>\n",
       "      <td>C2011179529</td>\n",
       "      <td>136848.83</td>\n",
       "      <td>81505.63</td>\n",
       "      <td>C411075855</td>\n",
       "      <td>428598.62</td>\n",
       "      <td>483941.81</td>\n",
       "      <td>0</td>\n",
       "      <td>0</td>\n",
       "      <td>2</td>\n",
       "      <td>-55343.20</td>\n",
       "      <td>55343.19</td>\n",
       "    </tr>\n",
       "    <tr>\n",
       "      <th>5303308</th>\n",
       "      <td>373</td>\n",
       "      <td>PAYMENT</td>\n",
       "      <td>8368.53</td>\n",
       "      <td>C1941674691</td>\n",
       "      <td>18147.00</td>\n",
       "      <td>9778.47</td>\n",
       "      <td>M1884421033</td>\n",
       "      <td>0.00</td>\n",
       "      <td>0.00</td>\n",
       "      <td>0</td>\n",
       "      <td>0</td>\n",
       "      <td>0</td>\n",
       "      <td>-8368.53</td>\n",
       "      <td>0.00</td>\n",
       "    </tr>\n",
       "    <tr>\n",
       "      <th>2899073</th>\n",
       "      <td>228</td>\n",
       "      <td>CASH_OUT</td>\n",
       "      <td>316121.24</td>\n",
       "      <td>C1132564664</td>\n",
       "      <td>0.00</td>\n",
       "      <td>0.00</td>\n",
       "      <td>C30339021</td>\n",
       "      <td>686869.82</td>\n",
       "      <td>1002991.06</td>\n",
       "      <td>0</td>\n",
       "      <td>0</td>\n",
       "      <td>2</td>\n",
       "      <td>0.00</td>\n",
       "      <td>316121.24</td>\n",
       "    </tr>\n",
       "    <tr>\n",
       "      <th>1355746</th>\n",
       "      <td>138</td>\n",
       "      <td>PAYMENT</td>\n",
       "      <td>1194.88</td>\n",
       "      <td>C650664408</td>\n",
       "      <td>0.00</td>\n",
       "      <td>0.00</td>\n",
       "      <td>M1582915637</td>\n",
       "      <td>0.00</td>\n",
       "      <td>0.00</td>\n",
       "      <td>0</td>\n",
       "      <td>0</td>\n",
       "      <td>0</td>\n",
       "      <td>0.00</td>\n",
       "      <td>0.00</td>\n",
       "    </tr>\n",
       "  </tbody>\n",
       "</table>\n",
       "</div>"
      ],
      "text/plain": [
       "         step      type     amount     nameOrig  oldbalanceOrg  \\\n",
       "3377225   254  CASH_OUT   13165.31   C201466268           0.00   \n",
       "4147139   303  CASH_OUT   55343.20  C2011179529      136848.83   \n",
       "5303308   373   PAYMENT    8368.53  C1941674691       18147.00   \n",
       "2899073   228  CASH_OUT  316121.24  C1132564664           0.00   \n",
       "1355746   138   PAYMENT    1194.88   C650664408           0.00   \n",
       "\n",
       "         newbalanceOrig     nameDest  oldbalanceDest  newbalanceDest  isFraud  \\\n",
       "3377225            0.00   C632611315       492122.40       505287.71        0   \n",
       "4147139        81505.63   C411075855       428598.62       483941.81        0   \n",
       "5303308         9778.47  M1884421033            0.00            0.00        0   \n",
       "2899073            0.00    C30339021       686869.82      1002991.06        0   \n",
       "1355746            0.00  M1582915637            0.00            0.00        0   \n",
       "\n",
       "         isFlaggedFraud  type_int  balanceOrig_diff  balanceDest_diff  \n",
       "3377225               0         2              0.00          13165.31  \n",
       "4147139               0         2         -55343.20          55343.19  \n",
       "5303308               0         0          -8368.53              0.00  \n",
       "2899073               0         2              0.00         316121.24  \n",
       "1355746               0         0              0.00              0.00  "
      ]
     },
     "execution_count": 11,
     "metadata": {},
     "output_type": "execute_result"
    }
   ],
   "source": [
    "type_int = {'PAYMENT' : 0, 'TRANSFER' : 1, 'CASH_OUT' : 2, 'DEBIT' : 3, 'CASH_IN' : 4}\n",
    "paysim['type_int'] = [type_int[x] for x in paysim['type']]\n",
    "paysim['balanceOrig_diff'] = paysim['newbalanceOrig'] - paysim['oldbalanceOrg']\n",
    "paysim['balanceDest_diff'] = paysim['newbalanceDest'] - paysim['oldbalanceDest']\n",
    "paysim.head()"
   ]
  },
  {
   "cell_type": "code",
   "execution_count": 13,
   "metadata": {},
   "outputs": [
    {
     "data": {
      "text/plain": [
       "<matplotlib.axes._subplots.AxesSubplot at 0x1ef4a4246a0>"
      ]
     },
     "execution_count": 13,
     "metadata": {},
     "output_type": "execute_result"
    },
    {
     "data": {
      "image/png": "[encoded data removed]",
      "text/plain": [
       "<Figure size 720x720 with 2 Axes>"
      ]
     },
     "metadata": {},
     "output_type": "display_data"
    }
   ],
   "source": [
    "plt.style.use('ggplot')\n",
    "fraud = paysim[paysim['isFraud'] == 1]\n",
    "f = plt.subplots(figsize = (10,10))\n",
    "sns.heatmap(fraud.corr(), annot = True)"
   ]
  },
  {
   "cell_type": "markdown",
   "metadata": {},
   "source": [
    "### Run a logisitc regression classifier and evaluate its accuracy."
   ]
  },
  {
   "cell_type": "code",
   "execution_count": 16,
   "metadata": {},
   "outputs": [
    {
     "name": "stderr",
     "output_type": "stream",
     "text": [
      "C:\\Users\\dandoye\\Anaconda3\\envs\\ironhack\\lib\\site-packages\\sklearn\\linear_model\\logistic.py:432: FutureWarning: Default solver will be changed to 'lbfgs' in 0.22. Specify a solver to silence this warning.\n",
      "  FutureWarning)\n",
      "C:\\Users\\dandoye\\Anaconda3\\envs\\ironhack\\lib\\site-packages\\sklearn\\svm\\base.py:929: ConvergenceWarning: Liblinear failed to converge, increase the number of iterations.\n",
      "  \"the number of iterations.\", ConvergenceWarning)\n"
     ]
    },
    {
     "data": {
      "text/plain": [
       "0.99667"
      ]
     },
     "execution_count": 16,
     "metadata": {},
     "output_type": "execute_result"
    }
   ],
   "source": [
    "# Your code here\n",
    "from sklearn.linear_model import LogisticRegression\n",
    "#X = paysim[['amount', 'balanceOrig_diff']]\n",
    "X = paysim.drop(['isFraud', 'type', 'nameOrig', 'nameDest'], axis = 1)\n",
    "y = paysim['isFraud']\n",
    "model = LogisticRegression().fit(X,y)\n",
    "model.score(X,y)"
   ]
  },
  {
   "cell_type": "markdown",
   "metadata": {},
   "source": [
    "### Now pick a model of your choice and evaluate its accuracy."
   ]
  },
  {
   "cell_type": "code",
   "execution_count": 17,
   "metadata": {},
   "outputs": [
    {
     "data": {
      "text/plain": [
       "0.9994"
      ]
     },
     "execution_count": 17,
     "metadata": {},
     "output_type": "execute_result"
    }
   ],
   "source": [
    "# Your code here\n",
    "from sklearn.neighbors import KNeighborsClassifier\n",
    "model = KNeighborsClassifier(n_neighbors = 2).fit(X,y)\n",
    "model.score(X,y)"
   ]
  },
  {
   "cell_type": "code",
   "execution_count": 18,
   "metadata": {},
   "outputs": [
    {
     "data": {
      "text/plain": [
       "0.99895"
      ]
     },
     "execution_count": 18,
     "metadata": {},
     "output_type": "execute_result"
    }
   ],
   "source": [
    "from sklearn.svm import SVC\n",
    "model = SVC(gamma = 'scale').fit(X,y)\n",
    "model.score(X,y)"
   ]
  },
  {
   "cell_type": "code",
   "execution_count": 19,
   "metadata": {},
   "outputs": [
    {
     "data": {
      "text/plain": [
       "1.0"
      ]
     },
     "execution_count": 19,
     "metadata": {},
     "output_type": "execute_result"
    }
   ],
   "source": [
    "from sklearn.tree import DecisionTreeClassifier\n",
    "model = DecisionTreeClassifier().fit(X,y)\n",
    "model.score(X,y)"
   ]
  },
  {
   "cell_type": "markdown",
   "metadata": {},
   "source": [
    "### Which model worked better and how do you know?"
   ]
  },
  {
   "cell_type": "markdown",
   "metadata": {},
   "source": [
    "### Your response here\n",
    "- Decison tree worked better with slightly better accuracy, however all worked really well because there is an exact relationship between 'amount' and 'balanceOrig_diff' that indicates whether something is fraud or not."
   ]
  },
  {
   "cell_type": "code",
   "execution_count": null,
   "metadata": {},
   "outputs": [],
   "source": []
  }
 ],
 "metadata": {
  "kernelspec": {
   "display_name": "Python 3",
   "language": "python",
   "name": "python3"
  },
  "language_info": {
   "codemirror_mode": {
    "name": "ipython",
    "version": 3
   },
   "file_extension": ".py",
   "mimetype": "text/x-python",
   "name": "python",
   "nbconvert_exporter": "python",
   "pygments_lexer": "ipython3",
   "version": "3.7.3"
  }
 },
 "nbformat": 4,
 "nbformat_minor": 2
}
